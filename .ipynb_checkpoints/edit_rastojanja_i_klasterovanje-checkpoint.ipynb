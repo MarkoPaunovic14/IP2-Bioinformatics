{
 "cells": [
  {
   "cell_type": "code",
   "execution_count": 1,
   "id": "f32c722c",
   "metadata": {},
   "outputs": [],
   "source": [
    "import os\n",
    "from Bio import SeqIO"
   ]
  },
  {
   "cell_type": "code",
   "execution_count": 2,
   "id": "962d645a",
   "metadata": {},
   "outputs": [],
   "source": [
    "def ucitaj_genome(putanja_do_foldera):\n",
    "    genomi = {}\n",
    "    for ime_fajla in os.listdir(putanja_do_foldera): \n",
    "        if ime_fajla.endswith(\".fasta\"):\n",
    "            putanja_do_fajla = os.path.join(putanja_do_foldera, ime_fajla)\n",
    "            with open(putanja_do_fajla, \"r\") as fajl:\n",
    "                virus = ime_fajla[:-6]\n",
    "                for genom in SeqIO.parse(fajl, \"fasta\"):\n",
    "                    genomi[virus] = genom.seq\n",
    "\n",
    "    return genomi"
   ]
  },
  {
   "cell_type": "code",
   "execution_count": 3,
   "id": "21db268c",
   "metadata": {},
   "outputs": [],
   "source": [
    "putanja_do_foldera = 'podaci/genomi'\n",
    "genomi = ucitaj_genome(putanja_do_foldera)"
   ]
  },
  {
   "cell_type": "code",
   "execution_count": 4,
   "id": "632ae76f",
   "metadata": {},
   "outputs": [],
   "source": [
    "with open('podaci/proteini/kodoni.fasta', 'r') as f:\n",
    "    i = 0\n",
    "    proteini = []\n",
    "    for line in f.readlines():\n",
    "        if i % 3 == 0:\n",
    "            linija = line.split(' | ')\n",
    "            virus = linija[0][1:]\n",
    "            naziv = linija[1][:-1]\n",
    "        if i % 3 == 1:\n",
    "            protein = line[:-1]\n",
    "        if i % 3 == 2:\n",
    "            proteini.append((virus, naziv, protein))\n",
    "        i += 1"
   ]
  },
  {
   "cell_type": "code",
   "execution_count": 5,
   "id": "8d25c59d",
   "metadata": {},
   "outputs": [],
   "source": [
    "import numpy as np\n",
    "def hamingovo_rastojanje(a, b): #a i b su sekvence kodona ili aminokiselina\n",
    "    haming = 0\n",
    "    i = 0\n",
    "    \n",
    "    a = np.array(list(a))\n",
    "    b = np.array(list(b))\n",
    "    \n",
    "    for x, y in zip(a, b):\n",
    "        if str(x) == str(y):\n",
    "            haming += 0\n",
    "        else:\n",
    "            haming += 1\n",
    "        i += 1\n",
    "    return haming"
   ]
  },
  {
   "cell_type": "code",
   "execution_count": 6,
   "id": "464d08a5",
   "metadata": {},
   "outputs": [],
   "source": [
    "def edit_rastojanje(str1, str2):\n",
    "    len_str1 = len(str1)\n",
    "    len_str2 = len(str2)\n",
    "    \n",
    "    # Inicijalizujemo matricu za čuvanje rastojanja\n",
    "    distance = [[0] * (len_str2 + 1) for _ in range(len_str1 + 1)]\n",
    "    \n",
    "    # Inicijalizujemo prvi red i prvu kolonu\n",
    "    for i in range(len_str1 + 1):\n",
    "        distance[i][0] = i\n",
    "    for j in range(len_str2 + 1):\n",
    "        distance[0][j] = j\n",
    "    \n",
    "    # Popunjavamo matricu rastojanja\n",
    "    for i in range(1, len_str1 + 1):\n",
    "        for j in range(1, len_str2 + 1):\n",
    "            if str1[i - 1] == str2[j - 1]:\n",
    "                cost = 0\n",
    "            else:\n",
    "                cost = 1\n",
    "            distance[i][j] = min(distance[i - 1][j] + 1,        # brisanje\n",
    "                                 distance[i][j - 1] + 1,        # ubacivanje\n",
    "                                 distance[i - 1][j - 1] + cost) # zamena\n",
    "    \n",
    "    return distance[len_str1][len_str2]"
   ]
  },
  {
   "cell_type": "code",
   "execution_count": 61,
   "id": "05d8b462",
   "metadata": {},
   "outputs": [],
   "source": [
    "def izracunaj_edit_rastojanja():\n",
    "    izracunata_rastojanja = {}\n",
    "    edit_rastojanja = {}\n",
    "    imena = []\n",
    "    \n",
    "    for protein1 in proteini:\n",
    "        for protein2 in proteini:\n",
    "            ime1 = protein1[0] + ' | ' + protein1[1]\n",
    "            ime2 = protein2[0] + ' | ' + protein2[1]\n",
    "            if ime1 not in imena:\n",
    "                imena.append(ime1)\n",
    "            if ime2 not in imena:\n",
    "                imena.append(ime2)\n",
    "            \n",
    "            if protein1 == protein2:\n",
    "                edit_rastojanja[(ime1, ime2)] = 0\n",
    "                continue\n",
    "                \n",
    "            if (ime1, ime2) in izracunata_rastojanja:\n",
    "                edit_rastojanja[(ime2, ime1)] = izracunata_rastojanja[(ime1, ime2)]\n",
    "                continue\n",
    "            else:\n",
    "                edit_rastojanja[(ime1, ime2)] =  hamingovo_rastojanje(protein1[2], protein2[2])\n",
    "                izracunata_rastojanja[(ime1, ime2)] = edit_rastojanja[(ime1, ime2)]\n",
    "                \n",
    "    return edit_rastojanja, imena"
   ]
  },
  {
   "cell_type": "code",
   "execution_count": 62,
   "id": "01429597",
   "metadata": {},
   "outputs": [],
   "source": [
    "rastojanja, imena = izracunaj_edit_rastojanja()"
   ]
  },
  {
   "cell_type": "code",
   "execution_count": 63,
   "id": "570b1ca2",
   "metadata": {},
   "outputs": [
    {
     "data": {
      "text/plain": [
       "2975"
      ]
     },
     "execution_count": 63,
     "metadata": {},
     "output_type": "execute_result"
    }
   ],
   "source": [
    "rastojanja[(imena[0], imena[1])]"
   ]
  },
  {
   "cell_type": "code",
   "execution_count": 89,
   "id": "20c067c5",
   "metadata": {},
   "outputs": [],
   "source": [
    "imena_u_brojevima = [i for i in range(len(imena))]"
   ]
  },
  {
   "cell_type": "code",
   "execution_count": 64,
   "id": "b3b670cc",
   "metadata": {},
   "outputs": [],
   "source": [
    "matrica = [[0] * (len(imena) + 1) for _ in range(len(imena) + 1)]"
   ]
  },
  {
   "cell_type": "code",
   "execution_count": 93,
   "id": "ca5a8455",
   "metadata": {},
   "outputs": [],
   "source": [
    "for i in range(len(imena) + 1):\n",
    "    for j in range(len(imena) + 1):\n",
    "        if i == 0 and j == 0:\n",
    "            matrica[i][j] = -1\n",
    "            continue\n",
    "        \n",
    "        if i == 0:    \n",
    "            matrica[i][j] = imena_u_brojevima[j-1]\n",
    "        elif j == 0:  \n",
    "            matrica[i][j] = imena_u_brojevima[i-1]\n",
    "        else:  \n",
    "            matrica[i][j] = rastojanja[(imena[i-1],imena[j-1])]"
   ]
  },
  {
   "cell_type": "code",
   "execution_count": 94,
   "id": "200fa7be",
   "metadata": {},
   "outputs": [],
   "source": [
    "import csv\n",
    "\n",
    "def save_matrix_to_csv(matrix, file_name):\n",
    "    with open(file_name, 'w', newline='') as csvfile:\n",
    "        writer = csv.writer(csvfile)\n",
    "        writer.writerows(matrix)"
   ]
  },
  {
   "cell_type": "code",
   "execution_count": 95,
   "id": "8bd5df46",
   "metadata": {},
   "outputs": [],
   "source": [
    "save_matrix_to_csv(matrica, 'podaci_za_klasterovanje')"
   ]
  },
  {
   "cell_type": "code",
   "execution_count": 96,
   "id": "6bcdb8dc",
   "metadata": {},
   "outputs": [],
   "source": [
    "import pandas as pd"
   ]
  },
  {
   "cell_type": "code",
   "execution_count": 97,
   "id": "5ef1c2a2",
   "metadata": {},
   "outputs": [],
   "source": [
    "dataset = pd.read_csv('podaci_za_klasterovanje')"
   ]
  },
  {
   "cell_type": "code",
   "execution_count": 98,
   "id": "9bed18cb",
   "metadata": {},
   "outputs": [],
   "source": [
    "from sklearn.cluster import AgglomerativeClustering"
   ]
  },
  {
   "cell_type": "code",
   "execution_count": 99,
   "id": "0249a2e7",
   "metadata": {},
   "outputs": [],
   "source": [
    "X = np.array(dataset)"
   ]
  },
  {
   "cell_type": "code",
   "execution_count": 100,
   "id": "8267fdd7",
   "metadata": {},
   "outputs": [],
   "source": [
    "model = AgglomerativeClustering(n_clusters=2)"
   ]
  },
  {
   "cell_type": "code",
   "execution_count": 101,
   "id": "0ef8c601",
   "metadata": {},
   "outputs": [
    {
     "data": {
      "text/html": [
       "<style>#sk-container-id-1 {color: black;background-color: white;}#sk-container-id-1 pre{padding: 0;}#sk-container-id-1 div.sk-toggleable {background-color: white;}#sk-container-id-1 label.sk-toggleable__label {cursor: pointer;display: block;width: 100%;margin-bottom: 0;padding: 0.3em;box-sizing: border-box;text-align: center;}#sk-container-id-1 label.sk-toggleable__label-arrow:before {content: \"▸\";float: left;margin-right: 0.25em;color: #696969;}#sk-container-id-1 label.sk-toggleable__label-arrow:hover:before {color: black;}#sk-container-id-1 div.sk-estimator:hover label.sk-toggleable__label-arrow:before {color: black;}#sk-container-id-1 div.sk-toggleable__content {max-height: 0;max-width: 0;overflow: hidden;text-align: left;background-color: #f0f8ff;}#sk-container-id-1 div.sk-toggleable__content pre {margin: 0.2em;color: black;border-radius: 0.25em;background-color: #f0f8ff;}#sk-container-id-1 input.sk-toggleable__control:checked~div.sk-toggleable__content {max-height: 200px;max-width: 100%;overflow: auto;}#sk-container-id-1 input.sk-toggleable__control:checked~label.sk-toggleable__label-arrow:before {content: \"▾\";}#sk-container-id-1 div.sk-estimator input.sk-toggleable__control:checked~label.sk-toggleable__label {background-color: #d4ebff;}#sk-container-id-1 div.sk-label input.sk-toggleable__control:checked~label.sk-toggleable__label {background-color: #d4ebff;}#sk-container-id-1 input.sk-hidden--visually {border: 0;clip: rect(1px 1px 1px 1px);clip: rect(1px, 1px, 1px, 1px);height: 1px;margin: -1px;overflow: hidden;padding: 0;position: absolute;width: 1px;}#sk-container-id-1 div.sk-estimator {font-family: monospace;background-color: #f0f8ff;border: 1px dotted black;border-radius: 0.25em;box-sizing: border-box;margin-bottom: 0.5em;}#sk-container-id-1 div.sk-estimator:hover {background-color: #d4ebff;}#sk-container-id-1 div.sk-parallel-item::after {content: \"\";width: 100%;border-bottom: 1px solid gray;flex-grow: 1;}#sk-container-id-1 div.sk-label:hover label.sk-toggleable__label {background-color: #d4ebff;}#sk-container-id-1 div.sk-serial::before {content: \"\";position: absolute;border-left: 1px solid gray;box-sizing: border-box;top: 0;bottom: 0;left: 50%;z-index: 0;}#sk-container-id-1 div.sk-serial {display: flex;flex-direction: column;align-items: center;background-color: white;padding-right: 0.2em;padding-left: 0.2em;position: relative;}#sk-container-id-1 div.sk-item {position: relative;z-index: 1;}#sk-container-id-1 div.sk-parallel {display: flex;align-items: stretch;justify-content: center;background-color: white;position: relative;}#sk-container-id-1 div.sk-item::before, #sk-container-id-1 div.sk-parallel-item::before {content: \"\";position: absolute;border-left: 1px solid gray;box-sizing: border-box;top: 0;bottom: 0;left: 50%;z-index: -1;}#sk-container-id-1 div.sk-parallel-item {display: flex;flex-direction: column;z-index: 1;position: relative;background-color: white;}#sk-container-id-1 div.sk-parallel-item:first-child::after {align-self: flex-end;width: 50%;}#sk-container-id-1 div.sk-parallel-item:last-child::after {align-self: flex-start;width: 50%;}#sk-container-id-1 div.sk-parallel-item:only-child::after {width: 0;}#sk-container-id-1 div.sk-dashed-wrapped {border: 1px dashed gray;margin: 0 0.4em 0.5em 0.4em;box-sizing: border-box;padding-bottom: 0.4em;background-color: white;}#sk-container-id-1 div.sk-label label {font-family: monospace;font-weight: bold;display: inline-block;line-height: 1.2em;}#sk-container-id-1 div.sk-label-container {text-align: center;}#sk-container-id-1 div.sk-container {/* jupyter's `normalize.less` sets `[hidden] { display: none; }` but bootstrap.min.css set `[hidden] { display: none !important; }` so we also need the `!important` here to be able to override the default hidden behavior on the sphinx rendered scikit-learn.org. See: https://github.com/scikit-learn/scikit-learn/issues/21755 */display: inline-block !important;position: relative;}#sk-container-id-1 div.sk-text-repr-fallback {display: none;}</style><div id=\"sk-container-id-1\" class=\"sk-top-container\"><div class=\"sk-text-repr-fallback\"><pre>AgglomerativeClustering()</pre><b>In a Jupyter environment, please rerun this cell to show the HTML representation or trust the notebook. <br />On GitHub, the HTML representation is unable to render, please try loading this page with nbviewer.org.</b></div><div class=\"sk-container\" hidden><div class=\"sk-item\"><div class=\"sk-estimator sk-toggleable\"><input class=\"sk-toggleable__control sk-hidden--visually\" id=\"sk-estimator-id-1\" type=\"checkbox\" checked><label for=\"sk-estimator-id-1\" class=\"sk-toggleable__label sk-toggleable__label-arrow\">AgglomerativeClustering</label><div class=\"sk-toggleable__content\"><pre>AgglomerativeClustering()</pre></div></div></div></div></div>"
      ],
      "text/plain": [
       "AgglomerativeClustering()"
      ]
     },
     "execution_count": 101,
     "metadata": {},
     "output_type": "execute_result"
    }
   ],
   "source": [
    "model.fit(X)"
   ]
  },
  {
   "cell_type": "code",
   "execution_count": 105,
   "id": "b3c33ee9",
   "metadata": {},
   "outputs": [
    {
     "data": {
      "image/png": "[encoded data removed]",
      "text/plain": [
       "<Figure size 800x600 with 1 Axes>"
      ]
     },
     "metadata": {},
     "output_type": "display_data"
    }
   ],
   "source": [
    "import matplotlib.pyplot as plt\n",
    "# Vizualizacija rezultata klasterovanja\n",
    "plt.figure(figsize=(8, 6))\n",
    "\n",
    "# Prikazivanje tačaka sa obojenim klasterima\n",
    "plt.scatter(X[:, 0], X[:, 1], c=model.labels_, cmap='viridis', s=50, alpha=0.5)\n",
    "plt.title('Vizualizacija rezultata aglomerativnog klasterovanja')\n",
    "plt.xlabel('Naziv proteina')\n",
    "plt.ylabel('Rastojanje')\n",
    "plt.show()"
   ]
  },
  {
   "cell_type": "code",
   "execution_count": null,
   "id": "ed9cfb35",
   "metadata": {},
   "outputs": [],
   "source": []
  }
 ],
 "metadata": {
  "kernelspec": {
   "display_name": "Python 3 (ipykernel)",
   "language": "python",
   "name": "python3"
  },
  "language_info": {
   "codemirror_mode": {
    "name": "ipython",
    "version": 3
   },
   "file_extension": ".py",
   "mimetype": "text/x-python",
   "name": "python",
   "nbconvert_exporter": "python",
   "pygments_lexer": "ipython3",
   "version": "3.10.12"
  }
 },
 "nbformat": 4,
 "nbformat_minor": 5
}
