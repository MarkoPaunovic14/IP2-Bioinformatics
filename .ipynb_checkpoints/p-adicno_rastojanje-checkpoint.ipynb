{
 "cells": [
  {
   "cell_type": "code",
   "execution_count": 2,
   "id": "d63dc527-d9a9-45ee-b16d-be003460cec5",
   "metadata": {},
   "outputs": [],
   "source": [
    "import os\n",
    "from Bio import SeqIO"
   ]
  },
  {
   "cell_type": "code",
   "execution_count": 3,
   "id": "9d13391b-c116-4ff8-aeaf-dfd88ad8b53b",
   "metadata": {},
   "outputs": [],
   "source": [
    "def ucitaj_povrsinske_proteine(putanja_do_fajla):\n",
    "    povrsinski_proteini_nazivi = {}\n",
    "    povrsinski_proteini_rnk = {}\n",
    "    with open(putanja_do_fajla, \"r\") as fajl:\n",
    "        for red in SeqIO.parse(fajl, \"fasta\"):\n",
    "            if any(kljucna_rec in red.description for kljucna_rec in ['spike', 'surface']):\n",
    "                povrsinski_proteini_nazivi[red.name] = red.description.split(\" | \")[1]\n",
    "                povrsinski_proteini_rnk[red.name] = red.seq\n",
    "\n",
    "    return povrsinski_proteini_nazivi, povrsinski_proteini_rnk"
   ]
  },
  {
   "cell_type": "code",
   "execution_count": 11,
   "id": "fcad069b-9b1d-4eb2-bf81-a4ece883ae90",
   "metadata": {},
   "outputs": [],
   "source": [
    "putanja_do_fajla = \"podaci/proteini/kodoni.fasta\"\n",
    "povrsinski_proteini_nazivi, povrsinski_proteini_rnk = ucitaj_povrsinske_proteine(putanja_do_fajla)"
   ]
  },
  {
   "cell_type": "code",
   "execution_count": 12,
   "id": "55382c79-affb-41bc-9bb8-10e08204f1d3",
   "metadata": {},
   "outputs": [
    {
     "name": "stdout",
     "output_type": "stream",
     "text": [
      "mers 4062\n",
      "bcov 4092\n",
      "sars1 3768\n",
      "human229e 3522\n",
      "humanoc43 4062\n"
     ]
    }
   ],
   "source": [
    "for virus, rnk in povrsinski_proteini_rnk.items():\n",
    "    print(virus, len(rnk))"
   ]
  },
  {
   "cell_type": "code",
   "execution_count": 13,
   "id": "0ad20a24-9923-4297-af5b-5c983f0fb2fd",
   "metadata": {},
   "outputs": [],
   "source": [
    "# Prevodjenje kodona u p-adicne brojeve\n",
    "def kodon_u_p_adicni_broj(kodon):\n",
    "    kodon_u_broj = {\n",
    "        'CCC': 111, 'CCU': 113, 'CCA': 112, 'CCG': 114,\n",
    "        'CAC': 121, 'CAU': 123, 'CAA': 122, 'CAG': 124,\n",
    "        'CUC': 131, 'CUU': 133, 'CUA': 132, 'CUG': 134,\n",
    "        'CGC': 141, 'CGU': 143, 'CGA': 142, 'CGG': 144,\n",
    "        'ACC': 211, 'ACU': 213, 'ACA': 212, 'ACG': 214,\n",
    "        'AAC': 221, 'AAU': 223, 'AAA': 222, 'AAG': 224,\n",
    "        'AUC': 231, 'AUU': 233, 'AUA': 232, 'AUG': 234,\n",
    "        'AGC': 241, 'AGU': 243, 'AGA': 242, 'AGG': 244,\n",
    "        'UCC': 311, 'UCU': 313, 'UCA': 312, 'UCG': 314,\n",
    "        'UAC': 321, 'UAU': 323, 'UAA': 322, 'UAG': 324,\n",
    "        'UUC': 331, 'UUU': 333, 'UUA': 332, 'UUG': 334,\n",
    "        'UGC': 341, 'UGU': 343, 'UGA': 342, 'UGG': 344,\n",
    "        'GCC': 411, 'GCU': 413, 'GCA': 412, 'GCG': 414,\n",
    "        'GAC': 421, 'GAU': 423, 'GAA': 422, 'GAG': 424,\n",
    "        'GUC': 431, 'GUU': 433, 'GUA': 432, 'GUG': 434,\n",
    "        'GGC': 441, 'GGU': 443, 'GGA': 442, 'GGG': 444\n",
    "    }\n",
    "\n",
    "    return kodon_u_broj[kodon]\n",
    "        \n",
    "# Prevodjenje RNK u niz p-adicnih brojeva\n",
    "def rnk_sekvenca_u_p_adicne_brojeve(rnk_sekvenca):\n",
    "    brojevi = []\n",
    "    for i in range(0, len(rnk_sekvenca), 3):\n",
    "        kodon = rnk_sekvenca[i:i+3]\n",
    "        brojevi.append(kodon_u_p_adicni_broj(kodon))  \n",
    "    return brojevi"
   ]
  },
  {
   "cell_type": "code",
   "execution_count": 14,
   "id": "29626101-27e2-4ffa-a5d4-e8a73d6e179e",
   "metadata": {},
   "outputs": [],
   "source": [
    "def p_adicno_rastojanje_kodona(x, y, p):\n",
    "    x, y = str(x), str(y)\n",
    "    \n",
    "    if x[0] != y[0]:\n",
    "        # print(x, y, 1)\n",
    "        return 1\n",
    "    elif x[1] != y[1]:\n",
    "        # print(x, y, 1/p)\n",
    "        return 1/p\n",
    "    elif x[2] != y[2]:\n",
    "        # print(x, y, 1/p**2)\n",
    "        return 1/(p**2)\n",
    "\n",
    "    # print(x, y, 0)   \n",
    "    return 0\n",
    "    \n",
    "def p_adicno_rastojanje(p_rnk1, p_rnk2, p=5):\n",
    "    p_rastojanje = 0\n",
    "\n",
    "    for (x, y) in zip(p_rnk1, p_rnk2):\n",
    "        p_rastojanje += p_adicno_rastojanje_kodona(x, y, p)\n",
    "           \n",
    "    return p_rastojanje"
   ]
  },
  {
   "cell_type": "code",
   "execution_count": 26,
   "id": "37c5de13-9c8c-4ea8-8d80-89d8f24fc173",
   "metadata": {},
   "outputs": [],
   "source": [
    "def rnk_u_kodone(rnk):\n",
    "    kodoni = [rnk[i:i+3] for i in range(0, len(rnk), 3)]\n",
    "    return kodoni"
   ]
  },
  {
   "cell_type": "code",
   "execution_count": 25,
   "id": "bcb48719-c4a4-4e12-8c46-b44c0fda99fc",
   "metadata": {},
   "outputs": [],
   "source": [
    "import copy \n",
    "import numpy as np\n",
    "from Bio.Seq import Seq\n",
    "\n",
    "# s obzirom da duzine rnk koje kodiraju povrsinske proteine nisu jednake duzine, moramo da im izjednacimo duzine\n",
    "\n",
    "# 1. pristup: kracu sekvencu dopunimo do duzine duze sekvence najucestalijim kodonom\n",
    "def izjednacavanje_sekvenci_kodona(sekv1, sekv2):\n",
    "    sekv1, sekv2 = rnk_u_kodone(sekv1), rnk_u_kodone(sekv2)\n",
    "    \n",
    "    duza_sekvenca = sekv1 if len(sekv1) > len(sekv2) else sekv2\n",
    "    kraca_sekvenca = sekv1 if len(duza_sekvenca) == len(sekv2) else sekv2\n",
    "    ucestalost_kodona = {}\n",
    "    \n",
    "    for kodon in kraca_sekvenca:\n",
    "        if kodon in ucestalost_kodona:\n",
    "            ucestalost_kodona[kodon] += 1\n",
    "        else:\n",
    "            ucestalost_kodona[kodon] = 1\n",
    "        \n",
    "    najcesci_kodon = max(ucestalost_kodona, key=ucestalost_kodona.get)\n",
    "    broj_pojavljivanja = ucestalost_kodona[najcesci_kodon]\n",
    "\n",
    "    # Dopunimo kraću sekvencu sa najčešćim kodonom\n",
    "    broj_kodona_dodati = len(duza_sekvenca) - len(kraca_sekvenca)\n",
    "    dopunjeni_kodoni = [najcesci_kodon] * broj_kodona_dodati\n",
    "\n",
    "    # da se ne bi iz nekog razloga direktno menjale vrednosti, pravimo kopiju \n",
    "    dopunjena_sekvenca = kraca_sekvenca.copy()\n",
    "    dopunjena_sekvenca.extend(dopunjeni_kodoni)\n",
    "\n",
    "    dopunjena_sekvenca = ''.join(str(seq) for seq in dopunjena_sekvenca)\n",
    "    duza_sekvenca = ''.join(str(seq) for seq in duza_sekvenca)\n",
    "    # print(dopunjena_sekvenca)\n",
    "\n",
    "    \n",
    "    return dopunjena_sekvenca, duza_sekvenca\n",
    "\n",
    "\n",
    "# 2. pristup: kracu sekvencu dopunimo do duzine duze sekvence najucestalijim nukleotidom\n",
    "def izjednacavanje_sekvenci_nukleotida(sek1, sek2):\n",
    "    duza_sekvenca = sek1 if len(sek1) > len(sek2) else sek2\n",
    "    kraca_sekvenca = sek1 if len(duza_sekvenca) == len(sek2) else sek2\n",
    "    ucestalost_nukleotida = {}\n",
    "    \n",
    "    for nukleotid in kraca_sekvenca:\n",
    "        if nukleotid in ucestalost_nukleotida:\n",
    "            ucestalost_nukleotida[nukleotid] += 1\n",
    "        else:\n",
    "            ucestalost_nukleotida[nukleotid] = 1\n",
    "        \n",
    "    najcesci_nukleotid = max(ucestalost_nukleotida, key=ucestalost_nukleotida.get)\n",
    "\n",
    "    broj_nukleotida_dodati = len(duza_sekvenca) - len(kraca_sekvenca)\n",
    "    dopunjeni_nukleotidi = [najcesci_nukleotid] * broj_nukleotida_dodati\n",
    "    \n",
    "    dopunjena_sekvenca = kraca_sekvenca + ''.join(dopunjeni_nukleotidi)\n",
    "    # print(dopunjena_sekvenca)\n",
    "        \n",
    "    return dopunjena_sekvenca, duza_sekvenca"
   ]
  },
  {
   "cell_type": "code",
   "execution_count": 23,
   "id": "d712fdf9",
   "metadata": {},
   "outputs": [],
   "source": [
    "# do ovde je isto kao i hamingovo rastojanje"
   ]
  },
  {
   "cell_type": "code",
   "execution_count": 22,
   "id": "0038c260-2b3f-4e75-bea7-4db62217be8d",
   "metadata": {},
   "outputs": [
    {
     "name": "stdout",
     "output_type": "stream",
     "text": [
      "p-adicna rastojanja kada krace sekvence dopunjujemo najfrekventnijim kodonom\n",
      "\tmers i bcov je 1095.76 Najcesci kodon: GUU\n",
      "\tmers i sars1 je 1047.88 Najcesci kodon: UUU\n",
      "\tmers i human229e je 1058.64 Najcesci kodon: GUU\n",
      "\tmers i humanoc43 je 1061.76 Najcesci kodon: UAA\n",
      "\tbcov i sars1 je 1042.68 Najcesci kodon: UUU\n",
      "\tbcov i human229e je 1029.32 Najcesci kodon: GUU\n",
      "\tbcov i humanoc43 je 966.44 Najcesci kodon: AAU\n",
      "\tsars1 i human229e je 957.36 Najcesci kodon: GUU\n",
      "\tsars1 i humanoc43 je 1059.76 Najcesci kodon: UUU\n",
      "\thuman229e i humanoc43 je 1031.2 Najcesci kodon: GUU\n",
      "\n",
      "p-adicna rastojanja kada krace sekvence dopunjujemo najfrekventnijim nukleotidom\n",
      "\tmers i bcov je 1095.76 Najcesci nukleotid: U\n",
      "\tmers i sars1 je 1047.88 Najcesci nukleotid: U\n",
      "\tmers i human229e je 1056.96 Najcesci nukleotid: U\n",
      "\tmers i humanoc43 je 1061.76 Najcesci nukleotid: A\n",
      "\tbcov i sars1 je 1042.68 Najcesci nukleotid: U\n",
      "\tbcov i human229e je 1033.92 Najcesci nukleotid: U\n",
      "\tbcov i humanoc43 je 966.44 Najcesci nukleotid: U\n",
      "\tsars1 i human229e je 954.08 Najcesci nukleotid: U\n",
      "\tsars1 i humanoc43 je 1059.76 Najcesci nukleotid: U\n",
      "\thuman229e i humanoc43 je 1031.52 Najcesci nukleotid: U\n"
     ]
    }
   ],
   "source": [
    "# 1. pristup\n",
    "print('p-adicna rastojanja kada krace sekvence dopunjujemo najfrekventnijim kodonom')\n",
    "for i in range(len(povrsinski_proteini_rnk) - 1):\n",
    "    for j in range(i+1, len(povrsinski_proteini_rnk)):\n",
    "        virus1, rnk1 = list(povrsinski_proteini_rnk.items())[i]\n",
    "        virus2, rnk2 = list(povrsinski_proteini_rnk.items())[j]\n",
    "\n",
    "        rnk1, rnk2 = izjednacavanje_sekvenci_kodona(rnk1, rnk2)\n",
    "        \n",
    "        rnk1_p_brojevi = rnk_sekvenca_u_p_adicne_brojeve(rnk1)\n",
    "        rnk2_p_brojevi = rnk_sekvenca_u_p_adicne_brojeve(rnk2)\n",
    "\n",
    "        p_rastojanje = p_adicno_rastojanje(rnk1_p_brojevi, rnk2_p_brojevi)\n",
    "        print(f'\\t{virus1} i {virus2} je {round(p_rastojanje, 5)} Najcesci kodon: {rnk1[-3:]}')\n",
    "\n",
    "\n",
    "print()\n",
    "\n",
    "        \n",
    " # 2. pristup\n",
    "print('p-adicna rastojanja kada krace sekvence dopunjujemo najfrekventnijim nukleotidom')\n",
    "for i in range(len(povrsinski_proteini_rnk) - 1):\n",
    "    for j in range(i+1, len(povrsinski_proteini_rnk)):\n",
    "        virus1, rnk1 = list(povrsinski_proteini_rnk.items())[i]\n",
    "        virus2, rnk2 = list(povrsinski_proteini_rnk.items())[j]\n",
    "\n",
    "        rnk1, rnk2 = izjednacavanje_sekvenci_nukleotida(rnk1, rnk2)\n",
    "        \n",
    "        rnk1_p_brojevi = rnk_sekvenca_u_p_adicne_brojeve(rnk1)\n",
    "        rnk2_p_brojevi = rnk_sekvenca_u_p_adicne_brojeve(rnk2)\n",
    "\n",
    "        p_rastojanje = p_adicno_rastojanje(rnk1_p_brojevi, rnk2_p_brojevi)\n",
    "        print(f'\\t{virus1} i {virus2} je {round(p_rastojanje, 5)} Najcesci nukleotid: {rnk1[-1]}')     "
   ]
  },
  {
   "cell_type": "code",
   "execution_count": null,
   "id": "612404d5-b1c4-414e-b51c-46b165e52057",
   "metadata": {},
   "outputs": [],
   "source": []
  },
  {
   "cell_type": "code",
   "execution_count": null,
   "id": "02f4418a-eb10-40d3-9824-01ca2872ab58",
   "metadata": {},
   "outputs": [],
   "source": []
  }
 ],
 "metadata": {
  "kernelspec": {
   "display_name": "Python 3 (ipykernel)",
   "language": "python",
   "name": "python3"
  },
  "language_info": {
   "codemirror_mode": {
    "name": "ipython",
    "version": 3
   },
   "file_extension": ".py",
   "mimetype": "text/x-python",
   "name": "python",
   "nbconvert_exporter": "python",
   "pygments_lexer": "ipython3",
   "version": "3.10.12"
  }
 },
 "nbformat": 4,
 "nbformat_minor": 5
}
