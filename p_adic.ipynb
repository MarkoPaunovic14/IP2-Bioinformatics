{
 "cells": [
  {
   "cell_type": "code",
   "execution_count": 2,
   "id": "08f0a381-46e7-49ad-be72-e716fac8fd2d",
   "metadata": {},
   "outputs": [],
   "source": [
    "import os\n",
    "from Bio import SeqIO"
   ]
  },
  {
   "cell_type": "code",
   "execution_count": 3,
   "id": "abe334fa-f456-4eea-a576-2f6f8f53ed8a",
   "metadata": {},
   "outputs": [],
   "source": [
    "def ucitaj_genome(putanja_do_foldera):\n",
    "    genomi_kodovi = {}\n",
    "    for ime_fajla in os.listdir(putanja_do_foldera): \n",
    "        if ime_fajla.endswith(\".fasta\"):\n",
    "            putanja_do_fajla = os.path.join(putanja_do_foldera, ime_fajla)\n",
    "            with open(putanja_do_fajla, \"r\") as fajl:\n",
    "                virus = ime_fajla[:-6]\n",
    "                for genom in SeqIO.parse(fajl, \"fasta\"):\n",
    "                    genomi_kodovi[virus] = genom.seq\n",
    "\n",
    "    return genomi_kodovi"
   ]
  },
  {
   "cell_type": "code",
   "execution_count": 4,
   "id": "2420e779-7463-43ac-92ca-2a2b8b07a88a",
   "metadata": {},
   "outputs": [],
   "source": [
    "def ucitaj_proteine(putanja_do_foldera):\n",
    "    proteini_kodovi = {}\n",
    "    for ime_fajla in os.listdir(putanja_do_foldera): \n",
    "        if ime_fajla.endswith(\".fasta\"):\n",
    "            putanja_do_fajla = os.path.join(putanja_do_foldera, ime_fajla)\n",
    "            with open(putanja_do_fajla, \"r\") as fajl:\n",
    "                virus = ime_fajla[:-6]\n",
    "                for protein in SeqIO.parse(fajl, \"fasta\"):\n",
    "                    proteini_kodovi[virus] = protein.seq\n",
    "\n",
    "    return proteini_kodovi"
   ]
  },
  {
   "cell_type": "code",
   "execution_count": 5,
   "id": "c8939e7a-fe05-46c2-a6d3-7fe9bdca5d49",
   "metadata": {},
   "outputs": [],
   "source": [
    "# Putanja do direktorijuma sa fasta fajlovima\n",
    "putanja_do_foldera = \"podaci/genomi/referentni_modeli\"\n",
    "# Učitavanje genoma iz datoteka\n",
    "genomi_kodovi = ucitaj_genome(putanja_do_foldera)\n",
    "\n",
    "# Putanja do direktorijuma sa fasta fajlovima\n",
    "putanja_do_foldera = \"podaci/proteini/referentni_modeli\"\n",
    "# Učitavanje proteina iz datoteka\n",
    "proteini_kodovi = ucitaj_proteine(putanja_do_foldera)"
   ]
  },
  {
   "cell_type": "code",
   "execution_count": 7,
   "id": "21572b69-1683-4ef7-9ddf-4d1c4a56f121",
   "metadata": {},
   "outputs": [
    {
     "name": "stdout",
     "output_type": "stream",
     "text": [
      "mers 1353\n",
      "bcov 1363\n",
      "sars1 1255\n",
      "human229e 1173\n",
      "humanoc43 1353\n"
     ]
    }
   ],
   "source": [
    "for virus, kod in proteini_kodovi.items():\n",
    "    print(virus, len(kod))"
   ]
  },
  {
   "cell_type": "code",
   "execution_count": null,
   "id": "40829c8e",
   "metadata": {},
   "outputs": [],
   "source": [
    "for virus, kod in genomi_kodovi.items():\n",
    "    print(virus, len(kod))"
   ]
  },
  {
   "cell_type": "code",
   "execution_count": 19,
   "id": "d99385cf-49a7-4aab-83ec-1d736dca2b57",
   "metadata": {},
   "outputs": [],
   "source": [
    "from Bio.Seq import Seq\n",
    "\n",
    "# S obzirom da su sekvenca surface glycoproteina sars1, mers, human 229e, human oc43 i bcov virusa kodirane sa \n",
    "# 1255, 1353, 1173, 1353, 1363 aminokiselina redom, dovoljno je da trazimo otvorena citanja koja su duza od 1000 kodona\n",
    "def pronadji_orf(sekvencu, min_duzina=1000):\n",
    "    # Pronalaženje svih ORF (koji su duzi od min_duzina kodona) u DNK sekvenci\n",
    "    start_kodon = 'ATG'\n",
    "    stop_kodonovi = ['TAA', 'TAG', 'TGA']\n",
    "    orfovi = []\n",
    "    \n",
    "    # Pronalaženje svih pozicija start kodona\n",
    "    start_pozicije = [i for i in range(len(sekvencu) - 2) if sekvencu[i:i+3] == start_kodon]\n",
    "    \n",
    "    for start_poz in start_pozicije:\n",
    "        orf = ''\n",
    "        for i in range(start_poz, len(sekvencu) - 2, 3):\n",
    "            kodon = sekvencu[i:i+3]\n",
    "            if kodon in stop_kodonovi:\n",
    "                if len(orf) >= min_duzina:\n",
    "                    orfovi.append((start_poz, i+3, orf))\n",
    "                break\n",
    "            orf += kodon\n",
    "    return orfovi\n",
    "\n",
    "\n",
    "def prevedi_sekvencu(sekvenca):\n",
    "    # Prevodi RNK sekvencu u sekvencu aminokiselina.\n",
    "    tabela_kodona = {\n",
    "        'AUU':'I', 'AUC':'I', 'AUA':'I', 'AUG':'M',\n",
    "        'ACU':'T', 'ACC':'T', 'ACA':'T', 'ACG':'T',\n",
    "        'AAU':'N', 'AAC':'N', 'AAA':'K', 'AAG':'K',\n",
    "        'AGU':'S', 'AGC':'S', 'AGA':'R', 'AGG':'R',\n",
    "        'GUU':'V', 'GUC':'V', 'GUA':'V', 'GUG':'V',\n",
    "        'GCU':'A', 'GCC':'A', 'GCA':'A', 'GCG':'A',\n",
    "        'GAU':'D', 'GAC':'D', 'GAA':'E', 'GAG':'E',\n",
    "        'GGU':'G', 'GGC':'G', 'GGA':'G', 'GGG':'G',\n",
    "        'UCU':'S', 'UCC':'S', 'UCA':'S', 'UCG':'S',\n",
    "        'UUU':'F', 'UUC':'F', 'UUA':'L', 'UUG':'L',\n",
    "        'UAU':'Y', 'UAC':'Y', 'UAA':'*', 'UAG':'*',\n",
    "        'UGU':'C', 'UGC':'C', 'UGA':'*', 'UGG':'W',\n",
    "        'CCU':'P', 'CCC':'P', 'CCA':'P', 'CCG':'P',\n",
    "        'CAU':'H', 'CAC':'H', 'CAA':'Q', 'CAG':'Q',\n",
    "        'CGU':'R', 'CGC':'R', 'CGA':'R', 'CGG':'R',\n",
    "        'CUU':'L', 'CUC':'L', 'CUA':'L', 'CUG':'L'\n",
    "    }\n",
    "    \n",
    "    sekv_aminokiselina = ''\n",
    "    for i in range(0, len(sekvenca), 3):\n",
    "        kodon = sekvenca[i:i+3]\n",
    "        aminokiselina = tabela_kodona.get(kodon) \n",
    "        sekv_aminokiselina += aminokiselina\n",
    "    return sekv_aminokiselina"
   ]
  },
  {
   "cell_type": "code",
   "execution_count": 20,
   "id": "84f17bab-19d4-4a50-a4eb-fdff99935e29",
   "metadata": {},
   "outputs": [],
   "source": [
    "proteinske_sekvence_u_genomima = {}\n",
    "for virus, genom_kod in genomi_kodovi.items():  \n",
    "    # Pronalaženje ORF-ova u sekvenci\n",
    "    orfovi = pronadji_orf(genom_kod)\n",
    "    \n",
    "    # Prevodjenje ORF-ova u aminokiseline i ispis rezultata\n",
    "    for start, end, orf_sekv in orfovi:\n",
    "        # Transkripcija DNK u RNK\n",
    "        rnk_sekv_proteina = Seq(orf_sekv).transcribe()\n",
    "        # Prevodjenje RNK u protein\n",
    "        sekv_aminokiselina = prevedi_sekvencu(rnk_sekv_proteina)\n",
    "        \n",
    "        if sekv_aminokiselina == proteini_kodovi[virus]:\n",
    "            # print(f\"ORF od pozicije {start} do {end} preveden u sekvencu aminokiselina virusa {virus}\")\n",
    "            proteinske_sekvence_u_genomima[virus] = rnk_sekv_proteina"
   ]
  },
  {
   "cell_type": "code",
   "execution_count": 21,
   "id": "000274d8-5700-4e0c-95dc-bebb9e68bba5",
   "metadata": {},
   "outputs": [],
   "source": [
    "# Prevodjenje kodona u p-adicne brojeve\n",
    "def kodon_u_p_adicni_broj(kodon):\n",
    "    kodon_u_broj = {\n",
    "        'CCC': 111, 'CCU': 113, 'CCA': 112, 'CCG': 114,\n",
    "        'CAC': 121, 'CAU': 123, 'CAA': 122, 'CAG': 124,\n",
    "        'CUC': 131, 'CUU': 133, 'CUA': 132, 'CUG': 134,\n",
    "        'CGC': 141, 'CGU': 143, 'CGA': 142, 'CGG': 144,\n",
    "        'ACC': 211, 'ACU': 213, 'ACA': 212, 'ACG': 214,\n",
    "        'AAC': 221, 'AAU': 223, 'AAA': 222, 'AAG': 224,\n",
    "        'AUC': 231, 'AUU': 233, 'AUA': 232, 'AUG': 234,\n",
    "        'AGC': 241, 'AGU': 243, 'AGA': 242, 'AGG': 244,\n",
    "        'UCC': 311, 'UCU': 313, 'UCA': 312, 'UCG': 314,\n",
    "        'UAC': 321, 'UAU': 323, 'UAA': 322, 'UAG': 324,\n",
    "        'UUC': 331, 'UUU': 333, 'UUA': 332, 'UUG': 334,\n",
    "        'UGC': 341, 'UGU': 343, 'UGA': 342, 'UGG': 344,\n",
    "        'GCC': 411, 'GCU': 413, 'GCA': 412, 'GCG': 414,\n",
    "        'GAC': 421, 'GAU': 423, 'GAA': 422, 'GAG': 424,\n",
    "        'GUC': 431, 'GUU': 433, 'GUA': 432, 'GUG': 434,\n",
    "        'GGC': 441, 'GGU': 443, 'GGA': 442, 'GGG': 444\n",
    "    }\n",
    "\n",
    "    return kodon_u_broj[kodon]\n",
    "        \n",
    "# Prevodjenje RNK u niz p-adicnih brojeva\n",
    "def rnk_sekvencu_u_p_adicne_brojeve(rnk_sekvenca):\n",
    "    brojevi = []\n",
    "    for i in range(0, len(rnk_sekvenca), 3):\n",
    "        kodon = rnk_sekvenca[i:i+3]\n",
    "        brojevi.append(kodon_u_p_adicni_broj(kodon))  \n",
    "    return brojevi"
   ]
  },
  {
   "cell_type": "code",
   "execution_count": 22,
   "id": "54ec9bd2-b5b8-4996-ac72-2aa76071d2e8",
   "metadata": {},
   "outputs": [],
   "source": [
    "def p_adicno_rastojanje_kodona(x, y, p):\n",
    "    x, y = str(x), str(y)\n",
    "    \n",
    "    if x[0] != y[0]:\n",
    "        # print(x, y, 1)\n",
    "        return 1\n",
    "    elif x[1] != y[1]:\n",
    "        # print(x, y, 1/p)\n",
    "        return 1/p\n",
    "    elif x[2] != y[2]:\n",
    "        # print(x, y, 1/p**2)\n",
    "        return 1/(p**2)\n",
    "\n",
    "    # print(x, y, 0)\n",
    "    return 0\n",
    "    \n",
    "def p_adicno_rastojanje(protein1, protein2, p=5):\n",
    "    p_rastojanje = 0\n",
    "    for (x, y) in zip(protein1, protein2):\n",
    "        p_rastojanje += p_adicno_rastojanje_kodona(x, y, p)\n",
    "\n",
    "    return p_rastojanje"
   ]
  },
  {
   "cell_type": "code",
   "execution_count": 23,
   "id": "7ebb139c-3543-4d79-8049-1ad3939ffbcb",
   "metadata": {},
   "outputs": [
    {
     "name": "stdout",
     "output_type": "stream",
     "text": [
      "1353\n",
      "1061.7600000000048\n"
     ]
    }
   ],
   "source": [
    "import numpy as np\n",
    "\n",
    "humanoc43 = np.array(rnk_sekvencu_u_p_adicne_brojeve(proteinske_sekvence_u_genomima['humanoc43']))\n",
    "mers = np.array(rnk_sekvencu_u_p_adicne_brojeve(proteinske_sekvence_u_genomima['mers']))\n",
    "\n",
    "print(humanoc43.size)\n",
    "print(p_adicno_rastojanje(humanoc43, mers))"
   ]
  },
  {
   "cell_type": "code",
   "execution_count": 24,
   "id": "78d8dc57-863a-45df-8c44-30f7ebebb36b",
   "metadata": {},
   "outputs": [],
   "source": [
    "def rnk_u_kodoni(rnk_sekvenca):\n",
    "    kodoni = []\n",
    "    for i in range(0, len(rnk_sekvenca), 3):\n",
    "        kodon = rnk_sekvenca[i:i+3]\n",
    "        kodoni.append(kodon)  \n",
    "    return kodoni"
   ]
  },
  {
   "cell_type": "code",
   "execution_count": 25,
   "id": "94ddbb62-1867-4775-a04d-cc024bee9b9d",
   "metadata": {},
   "outputs": [],
   "source": [
    "humanoc43_codons = rnk_u_kodoni(proteinske_sekvence_u_genomima['humanoc43'])\n",
    "mers_codons = rnk_u_kodoni(proteinske_sekvence_u_genomima['mers'])"
   ]
  },
  {
   "cell_type": "code",
   "execution_count": 26,
   "id": "9700d22a-3353-4936-9e7b-121569d1df08",
   "metadata": {},
   "outputs": [
    {
     "name": "stdout",
     "output_type": "stream",
     "text": [
      "1316\n"
     ]
    }
   ],
   "source": [
    "hamming = 0\n",
    "for x, y in zip(mers_codons, humanoc43_codons):\n",
    "    if str(x) == str(y):\n",
    "        # print(x, y, 0)\n",
    "        hamming += 0\n",
    "    else:\n",
    "        # print(x, y, 1)\n",
    "        hamming += 1\n",
    "\n",
    "print(hamming)\n",
    "    "
   ]
  },
  {
   "cell_type": "code",
   "execution_count": null,
   "id": "e1d4fdf0-104d-4f7d-93ec-2b45a02ce84a",
   "metadata": {},
   "outputs": [],
   "source": []
  },
  {
   "cell_type": "code",
   "execution_count": null,
   "id": "c9be58a4-f2c3-45ff-9d97-dc22830d1358",
   "metadata": {},
   "outputs": [],
   "source": []
  },
  {
   "cell_type": "code",
   "execution_count": null,
   "id": "5077cf7c-efc8-4ad8-b7db-eeb06b302627",
   "metadata": {},
   "outputs": [],
   "source": []
  },
  {
   "cell_type": "code",
   "execution_count": null,
   "id": "653d95ed-6ddb-43b6-8724-2c367bdd4c03",
   "metadata": {},
   "outputs": [],
   "source": []
  }
 ],
 "metadata": {
  "kernelspec": {
   "display_name": "Python 3 (ipykernel)",
   "language": "python",
   "name": "python3"
  },
  "language_info": {
   "codemirror_mode": {
    "name": "ipython",
    "version": 3
   },
   "file_extension": ".py",
   "mimetype": "text/x-python",
   "name": "python",
   "nbconvert_exporter": "python",
   "pygments_lexer": "ipython3",
   "version": "3.10.12"
  }
 },
 "nbformat": 4,
 "nbformat_minor": 5
}
