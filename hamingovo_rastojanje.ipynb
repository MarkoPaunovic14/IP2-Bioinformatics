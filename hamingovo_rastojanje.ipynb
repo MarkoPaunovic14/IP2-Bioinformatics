{
 "cells": [
  {
   "cell_type": "code",
   "execution_count": 1,
   "id": "68cab14d",
   "metadata": {},
   "outputs": [],
   "source": [
    "import os\n",
    "from Bio import SeqIO"
   ]
  },
  {
   "cell_type": "code",
   "execution_count": 2,
   "id": "7f962060",
   "metadata": {},
   "outputs": [],
   "source": [
    "def ucitaj_povrsinske_proteine(putanja_do_fajla):\n",
    "    povrsinski_proteini_nazivi = {}\n",
    "    povrsinski_proteini_rnk = {}\n",
    "    with open(putanja_do_fajla, \"r\") as fajl:\n",
    "        for red in SeqIO.parse(fajl, \"fasta\"):\n",
    "            if any(kljucna_rec in red.description for kljucna_rec in ['spike', 'surface']):\n",
    "                povrsinski_proteini_nazivi[red.name] = red.description.split(\" | \")[1]\n",
    "                povrsinski_proteini_rnk[red.name] = red.seq\n",
    "\n",
    "    return povrsinski_proteini_nazivi, povrsinski_proteini_rnk"
   ]
  },
  {
   "cell_type": "code",
   "execution_count": 3,
   "id": "e9f368dc",
   "metadata": {},
   "outputs": [],
   "source": [
    "putanja_do_fajla = \"podaci/proteini/kodoni.fasta\"\n",
    "povrsinski_proteini_nazivi, povrsinski_proteini_rnk = ucitaj_povrsinske_proteine(putanja_do_fajla)"
   ]
  },
  {
   "cell_type": "code",
   "execution_count": 4,
   "id": "c77754a9",
   "metadata": {},
   "outputs": [
    {
     "name": "stdout",
     "output_type": "stream",
     "text": [
      "mers 4062\n",
      "bcov 4092\n",
      "sars1 3768\n",
      "human229e 3522\n",
      "humanoc43 4062\n"
     ]
    }
   ],
   "source": [
    "for virus, rnk in povrsinski_proteini_rnk.items():\n",
    "    print(virus, len(rnk))"
   ]
  },
  {
   "cell_type": "code",
   "execution_count": 5,
   "id": "422c5335",
   "metadata": {},
   "outputs": [],
   "source": [
    "# Prevodjenje kodona u p-adicne brojeve\n",
    "def kodon_u_p_adicni_broj(kodon):\n",
    "    kodon_u_broj = {\n",
    "        'CCC': 111, 'CCU': 113, 'CCA': 112, 'CCG': 114,\n",
    "        'CAC': 121, 'CAU': 123, 'CAA': 122, 'CAG': 124,\n",
    "        'CUC': 131, 'CUU': 133, 'CUA': 132, 'CUG': 134,\n",
    "        'CGC': 141, 'CGU': 143, 'CGA': 142, 'CGG': 144,\n",
    "        'ACC': 211, 'ACU': 213, 'ACA': 212, 'ACG': 214,\n",
    "        'AAC': 221, 'AAU': 223, 'AAA': 222, 'AAG': 224,\n",
    "        'AUC': 231, 'AUU': 233, 'AUA': 232, 'AUG': 234,\n",
    "        'AGC': 241, 'AGU': 243, 'AGA': 242, 'AGG': 244,\n",
    "        'UCC': 311, 'UCU': 313, 'UCA': 312, 'UCG': 314,\n",
    "        'UAC': 321, 'UAU': 323, 'UAA': 322, 'UAG': 324,\n",
    "        'UUC': 331, 'UUU': 333, 'UUA': 332, 'UUG': 334,\n",
    "        'UGC': 341, 'UGU': 343, 'UGA': 342, 'UGG': 344,\n",
    "        'GCC': 411, 'GCU': 413, 'GCA': 412, 'GCG': 414,\n",
    "        'GAC': 421, 'GAU': 423, 'GAA': 422, 'GAG': 424,\n",
    "        'GUC': 431, 'GUU': 433, 'GUA': 432, 'GUG': 434,\n",
    "        'GGC': 441, 'GGU': 443, 'GGA': 442, 'GGG': 444\n",
    "    }\n",
    "\n",
    "    return kodon_u_broj[kodon]\n",
    "        \n",
    "# Prevodjenje RNK u niz p-adicnih brojeva\n",
    "def rnk_sekvenca_u_p_adicne_brojeve(rnk_sekvenca):\n",
    "    brojevi = []\n",
    "    for i in range(0, len(rnk_sekvenca), 3):\n",
    "        kodon = rnk_sekvenca[i:i+3]\n",
    "        brojevi.append(kodon_u_p_adicni_broj(kodon))  \n",
    "    return brojevi\n",
    "\n",
    "def rnk_u_kodone(rnk):\n",
    "    kodoni = [rnk[i:i+3] for i in range(0, len(rnk), 3)]\n",
    "    return kodoni"
   ]
  },
  {
   "cell_type": "code",
   "execution_count": 6,
   "id": "42989611",
   "metadata": {},
   "outputs": [],
   "source": [
    "import copy \n",
    "import numpy as np\n",
    "from Bio.Seq import Seq\n",
    "\n",
    "# s obzirom da duzine rnk koje kodiraju povrsinske proteine nisu jednake duzine, moramo da im izjednacimo duzine\n",
    "\n",
    "# 1. pristup: kracu sekvencu dopunimo do duzine duze sekvence najucestalijim kodonom\n",
    "def izjednacavanje_sekvenci_kodona(sekv1, sekv2):\n",
    "    sekv1, sekv2 = rnk_u_kodone(sekv1), rnk_u_kodone(sekv2)\n",
    "    \n",
    "    duza_sekvenca = sekv1 if len(sekv1) > len(sekv2) else sekv2\n",
    "    kraca_sekvenca = sekv1 if len(duza_sekvenca) == len(sekv2) else sekv2\n",
    "    ucestalost_kodona = {}\n",
    "    \n",
    "    for kodon in kraca_sekvenca:\n",
    "        if kodon in ucestalost_kodona:\n",
    "            ucestalost_kodona[kodon] += 1\n",
    "        else:\n",
    "            ucestalost_kodona[kodon] = 1\n",
    "        \n",
    "    najcesci_kodon = max(ucestalost_kodona, key=ucestalost_kodona.get)\n",
    "    broj_pojavljivanja = ucestalost_kodona[najcesci_kodon]\n",
    "\n",
    "    # Dopunimo kraću sekvencu sa najčešćim kodonom\n",
    "    broj_kodona_dodati = len(duza_sekvenca) - len(kraca_sekvenca)\n",
    "    dopunjeni_kodoni = [najcesci_kodon] * broj_kodona_dodati\n",
    "\n",
    "    # da se ne bi iz nekog razloga direktno menjale vrednosti, pravimo kopiju \n",
    "    dopunjena_sekvenca = kraca_sekvenca.copy()\n",
    "    dopunjena_sekvenca.extend(dopunjeni_kodoni)\n",
    "\n",
    "    dopunjena_sekvenca = ''.join(str(seq) for seq in dopunjena_sekvenca)\n",
    "    duza_sekvenca = ''.join(str(seq) for seq in duza_sekvenca)\n",
    "    # print(dopunjena_sekvenca)\n",
    "\n",
    "    \n",
    "    return dopunjena_sekvenca, duza_sekvenca\n",
    "\n",
    "\n",
    "# 2. pristup: kracu sekvencu dopunimo do duzine duze sekvence najucestalijim nukleotidom\n",
    "def izjednacavanje_sekvenci_nukleotida(sek1, sek2):\n",
    "    duza_sekvenca = sek1 if len(sek1) > len(sek2) else sek2\n",
    "    kraca_sekvenca = sek1 if len(duza_sekvenca) == len(sek2) else sek2\n",
    "    ucestalost_nukleotida = {}\n",
    "    \n",
    "    for nukleotid in kraca_sekvenca:\n",
    "        if nukleotid in ucestalost_nukleotida:\n",
    "            ucestalost_nukleotida[nukleotid] += 1\n",
    "        else:\n",
    "            ucestalost_nukleotida[nukleotid] = 1\n",
    "        \n",
    "    najcesci_nukleotid = max(ucestalost_nukleotida, key=ucestalost_nukleotida.get)\n",
    "\n",
    "    broj_nukleotida_dodati = len(duza_sekvenca) - len(kraca_sekvenca)\n",
    "    dopunjeni_nukleotidi = [najcesci_nukleotid] * broj_nukleotida_dodati\n",
    "    \n",
    "    dopunjena_sekvenca = kraca_sekvenca + ''.join(dopunjeni_nukleotidi)\n",
    "    # print(dopunjena_sekvenca)\n",
    "        \n",
    "    return dopunjena_sekvenca, duza_sekvenca"
   ]
  },
  {
   "cell_type": "code",
   "execution_count": 7,
   "id": "9fbc2319",
   "metadata": {},
   "outputs": [],
   "source": [
    "# do ovde je isto kao i p-adicno-rastojanje"
   ]
  },
  {
   "cell_type": "code",
   "execution_count": 8,
   "id": "b7d7b344",
   "metadata": {},
   "outputs": [],
   "source": [
    "import numpy as np\n",
    "def hamingovo_rastojanje(a, b): #a i b su sekvence kodona ili aminokiselina\n",
    "    haming = 0\n",
    "    i = 0\n",
    "    \n",
    "    a = np.array(list(a))\n",
    "    b = np.array(list(b))\n",
    "    \n",
    "    for x, y in zip(a, b):\n",
    "        if str(x) == str(y):\n",
    "            haming += 0\n",
    "        else:\n",
    "            haming += 1\n",
    "        i += 1\n",
    "    return haming"
   ]
  },
  {
   "cell_type": "code",
   "execution_count": 9,
   "id": "85e910a4",
   "metadata": {},
   "outputs": [],
   "source": [
    "# 1) elementi su kodoni"
   ]
  },
  {
   "cell_type": "code",
   "execution_count": 67,
   "id": "9be76b75",
   "metadata": {},
   "outputs": [],
   "source": [
    "matrica = [[0] * (len(povrsinski_proteini_rnk)) for _ in range(len(povrsinski_proteini_rnk))]\n",
    "nazivi = ['mers', 'bcov', 'sars1', 'human229e', 'humanoc43']"
   ]
  },
  {
   "cell_type": "code",
   "execution_count": 69,
   "id": "1c1bfcdc",
   "metadata": {},
   "outputs": [],
   "source": [
    "# print('Hamingova rastojanja kada krace sekvence dopunjujemo najfrekventnijim kodonom')\n",
    "for i in range(len(povrsinski_proteini_rnk) - 1):\n",
    "    for j in range(i+1, len(povrsinski_proteini_rnk)):\n",
    "        virus1, rnk1 = list(povrsinski_proteini_rnk.items())[i]\n",
    "        virus2, rnk2 = list(povrsinski_proteini_rnk.items())[j]\n",
    "\n",
    "        rnk1, rnk2 = izjednacavanje_sekvenci_kodona(rnk1, rnk2)\n",
    "        \n",
    "        rnk1_p_brojevi = rnk_sekvenca_u_p_adicne_brojeve(rnk1)\n",
    "        rnk2_p_brojevi = rnk_sekvenca_u_p_adicne_brojeve(rnk2)\n",
    "\n",
    "        haming = hamingovo_rastojanje(rnk1_p_brojevi, rnk2_p_brojevi)\n",
    "        matrica[i][j] = haming\n",
    "        matrica[j][i] = haming\n",
    "#         print(f'\\t{virus1} i {virus2} je {haming} Najcesci kodon: {rnk1[-3:]}')\n",
    "\n",
    "\n",
    "# print()"
   ]
  },
  {
   "cell_type": "code",
   "execution_count": 75,
   "id": "bb4be9f7",
   "metadata": {},
   "outputs": [
    {
     "name": "stdout",
     "output_type": "stream",
     "text": [
      "Hamingova rastojanja kada krace sekvence dopunjujemo najfrekventnijim kodonom\n"
     ]
    },
    {
     "data": {
      "text/html": [
       "<div>\n",
       "<style scoped>\n",
       "    .dataframe tbody tr th:only-of-type {\n",
       "        vertical-align: middle;\n",
       "    }\n",
       "\n",
       "    .dataframe tbody tr th {\n",
       "        vertical-align: top;\n",
       "    }\n",
       "\n",
       "    .dataframe thead th {\n",
       "        text-align: right;\n",
       "    }\n",
       "</style>\n",
       "<table border=\"1\" class=\"dataframe\">\n",
       "  <thead>\n",
       "    <tr style=\"text-align: right;\">\n",
       "      <th></th>\n",
       "      <th>mers</th>\n",
       "      <th>bcov</th>\n",
       "      <th>sars1</th>\n",
       "      <th>human229e</th>\n",
       "      <th>humanoc43</th>\n",
       "    </tr>\n",
       "  </thead>\n",
       "  <tbody>\n",
       "    <tr>\n",
       "      <th>mers</th>\n",
       "      <td>0</td>\n",
       "      <td>1334</td>\n",
       "      <td>1321</td>\n",
       "      <td>1322</td>\n",
       "      <td>1316</td>\n",
       "    </tr>\n",
       "    <tr>\n",
       "      <th>bcov</th>\n",
       "      <td>1334</td>\n",
       "      <td>0</td>\n",
       "      <td>1319</td>\n",
       "      <td>1317</td>\n",
       "      <td>1213</td>\n",
       "    </tr>\n",
       "    <tr>\n",
       "      <th>sars1</th>\n",
       "      <td>1321</td>\n",
       "      <td>1319</td>\n",
       "      <td>0</td>\n",
       "      <td>1218</td>\n",
       "      <td>1326</td>\n",
       "    </tr>\n",
       "    <tr>\n",
       "      <th>human229e</th>\n",
       "      <td>1322</td>\n",
       "      <td>1317</td>\n",
       "      <td>1218</td>\n",
       "      <td>0</td>\n",
       "      <td>1300</td>\n",
       "    </tr>\n",
       "    <tr>\n",
       "      <th>humanoc43</th>\n",
       "      <td>1316</td>\n",
       "      <td>1213</td>\n",
       "      <td>1326</td>\n",
       "      <td>1300</td>\n",
       "      <td>0</td>\n",
       "    </tr>\n",
       "  </tbody>\n",
       "</table>\n",
       "</div>"
      ],
      "text/plain": [
       "           mers  bcov  sars1  human229e  humanoc43\n",
       "mers          0  1334   1321       1322       1316\n",
       "bcov       1334     0   1319       1317       1213\n",
       "sars1      1321  1319      0       1218       1326\n",
       "human229e  1322  1317   1218          0       1300\n",
       "humanoc43  1316  1213   1326       1300          0"
      ]
     },
     "execution_count": 75,
     "metadata": {},
     "output_type": "execute_result"
    }
   ],
   "source": [
    "import pandas as pd\n",
    "\n",
    "hamingova_rastojanja1 = pd.DataFrame(matrica, index=nazivi, columns=nazivi)\n",
    "print('Hamingova rastojanja kada krace sekvence dopunjujemo najfrekventnijim kodonom')\n",
    "hamingova_rastojanja1"
   ]
  },
  {
   "cell_type": "code",
   "execution_count": 13,
   "id": "211b3f73",
   "metadata": {},
   "outputs": [],
   "source": [
    "# 2) elementi su aminokiseline"
   ]
  },
  {
   "cell_type": "code",
   "execution_count": 78,
   "id": "c4fc435d",
   "metadata": {},
   "outputs": [],
   "source": [
    "# print('hamingova rastojanja kada krace sekvence dopunjujemo najfrekventnijom aminokiselinom')\n",
    "for i in range(len(povrsinski_proteini_rnk) - 1):\n",
    "    for j in range(i+1, len(povrsinski_proteini_rnk)):\n",
    "        virus1, rnk1 = list(povrsinski_proteini_rnk.items())[i]\n",
    "        virus2, rnk2 = list(povrsinski_proteini_rnk.items())[j]\n",
    "\n",
    "        rnk1 = rnk1.translate()\n",
    "        rnk2 = rnk2.translate()\n",
    "        \n",
    "        rnk1, rnk2 = izjednacavanje_sekvenci_nukleotida(rnk1, rnk2)\n",
    "        \n",
    "        haming = hamingovo_rastojanje(rnk1, rnk2)\n",
    "        matrica[i][j] = haming\n",
    "        matrica[j][i] = haming\n",
    "#         print(f'\\t{virus1} i {virus2} je {haming} Najcesca aminokiselina: {rnk1[-1]}') "
   ]
  },
  {
   "cell_type": "code",
   "execution_count": 79,
   "id": "31a065f6",
   "metadata": {},
   "outputs": [
    {
     "name": "stdout",
     "output_type": "stream",
     "text": [
      "Hamingova rastojanja kada krace sekvence dopunjujemo najfrekventnijom aminokiselinom\n"
     ]
    },
    {
     "data": {
      "text/html": [
       "<div>\n",
       "<style scoped>\n",
       "    .dataframe tbody tr th:only-of-type {\n",
       "        vertical-align: middle;\n",
       "    }\n",
       "\n",
       "    .dataframe tbody tr th {\n",
       "        vertical-align: top;\n",
       "    }\n",
       "\n",
       "    .dataframe thead th {\n",
       "        text-align: right;\n",
       "    }\n",
       "</style>\n",
       "<table border=\"1\" class=\"dataframe\">\n",
       "  <thead>\n",
       "    <tr style=\"text-align: right;\">\n",
       "      <th></th>\n",
       "      <th>mers</th>\n",
       "      <th>bcov</th>\n",
       "      <th>sars1</th>\n",
       "      <th>human229e</th>\n",
       "      <th>humanoc43</th>\n",
       "    </tr>\n",
       "  </thead>\n",
       "  <tbody>\n",
       "    <tr>\n",
       "      <th>mers</th>\n",
       "      <td>0</td>\n",
       "      <td>1283</td>\n",
       "      <td>1257</td>\n",
       "      <td>1282</td>\n",
       "      <td>1260</td>\n",
       "    </tr>\n",
       "    <tr>\n",
       "      <th>bcov</th>\n",
       "      <td>1283</td>\n",
       "      <td>0</td>\n",
       "      <td>1259</td>\n",
       "      <td>1269</td>\n",
       "      <td>1162</td>\n",
       "    </tr>\n",
       "    <tr>\n",
       "      <th>sars1</th>\n",
       "      <td>1257</td>\n",
       "      <td>1259</td>\n",
       "      <td>0</td>\n",
       "      <td>1162</td>\n",
       "      <td>1286</td>\n",
       "    </tr>\n",
       "    <tr>\n",
       "      <th>human229e</th>\n",
       "      <td>1282</td>\n",
       "      <td>1269</td>\n",
       "      <td>1162</td>\n",
       "      <td>0</td>\n",
       "      <td>1254</td>\n",
       "    </tr>\n",
       "    <tr>\n",
       "      <th>humanoc43</th>\n",
       "      <td>1260</td>\n",
       "      <td>1162</td>\n",
       "      <td>1286</td>\n",
       "      <td>1254</td>\n",
       "      <td>0</td>\n",
       "    </tr>\n",
       "  </tbody>\n",
       "</table>\n",
       "</div>"
      ],
      "text/plain": [
       "           mers  bcov  sars1  human229e  humanoc43\n",
       "mers          0  1283   1257       1282       1260\n",
       "bcov       1283     0   1259       1269       1162\n",
       "sars1      1257  1259      0       1162       1286\n",
       "human229e  1282  1269   1162          0       1254\n",
       "humanoc43  1260  1162   1286       1254          0"
      ]
     },
     "execution_count": 79,
     "metadata": {},
     "output_type": "execute_result"
    }
   ],
   "source": [
    "hamingova_rastojanja2 = pd.DataFrame(matrica, index=nazivi, columns=nazivi)\n",
    "print('Hamingova rastojanja kada krace sekvence dopunjujemo najfrekventnijom aminokiselinom')\n",
    "hamingova_rastojanja2"
   ]
  },
  {
   "cell_type": "code",
   "execution_count": null,
   "id": "1b13b1cd",
   "metadata": {},
   "outputs": [],
   "source": []
  }
 ],
 "metadata": {
  "kernelspec": {
   "display_name": "Python 3 (ipykernel)",
   "language": "python",
   "name": "python3"
  },
  "language_info": {
   "codemirror_mode": {
    "name": "ipython",
    "version": 3
   },
   "file_extension": ".py",
   "mimetype": "text/x-python",
   "name": "python",
   "nbconvert_exporter": "python",
   "pygments_lexer": "ipython3",
   "version": "3.10.12"
  }
 },
 "nbformat": 4,
 "nbformat_minor": 5
}
